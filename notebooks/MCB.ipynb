{
 "cells": [
  {
   "cell_type": "code",
   "execution_count": 2,
   "metadata": {},
   "outputs": [
    {
     "name": "stdout",
     "output_type": "stream",
     "text": [
      "Populating the interactive namespace from numpy and matplotlib\n"
     ]
    }
   ],
   "source": [
    "%pylab inline\n",
    "%load_ext autoreload\n",
    "%autoreload 2\n",
    "from __future__ import division\n",
    "from collections import Counter\n",
    "from Bio import SeqIO\n",
    "from pyseqlogo.pyseqlogo import draw_logo\n",
    "plt.rcParams['figure.dpi'] = 300\n",
    "plt.rcParams['savefig.dpi'] = 300"
   ]
  },
  {
   "cell_type": "code",
   "execution_count": 3,
   "metadata": {},
   "outputs": [
    {
     "data": {
      "text/plain": [
       "{'A', 'B', 'C', 'E', 'M', 'R', 'T'}"
      ]
     },
     "execution_count": 3,
     "metadata": {},
     "output_type": "execute_result"
    }
   ],
   "source": [
    "alphabets = set(['R', 'E', 'T', 'R', 'E', 'A', 'T', 'M', 'C', 'B'])\n",
    "alphabets"
   ]
  },
  {
   "cell_type": "code",
   "execution_count": 4,
   "metadata": {},
   "outputs": [
    {
     "data": {
      "text/plain": [
       "{'A', 'B', 'C', 'E', 'M', 'R', 'T'}"
      ]
     },
     "execution_count": 4,
     "metadata": {},
     "output_type": "execute_result"
    }
   ],
   "source": [
    "alphabets"
   ]
  },
  {
   "cell_type": "code",
   "execution_count": 12,
   "metadata": {},
   "outputs": [],
   "source": [
    "colors = {'A': '#C8C8C8', \n",
    "          'B': 'purple',\n",
    "          'C': '#E6E600',\n",
    "          'E': '#E60A0A',\n",
    "          'M': '#E6E600',\n",
    "          'R': '#145AFF',\n",
    "          'T': '#FA9600'\n",
    "         }"
   ]
  },
  {
   "cell_type": "code",
   "execution_count": 13,
   "metadata": {},
   "outputs": [],
   "source": [
    "counts_mcb = {'A': [0,0,0,0,0,200,0],\n",
    "              'B': [0,0,0,0,0,300,0],\n",
    "              'C': [0,0,0,300,0,0,0],\n",
    "              'E': [0,200,0,0,200,0,0],\n",
    "              'M': [0,300,0,0,0,0,0],\n",
    "              'R': [200,0,0,200,0,0,0],\n",
    "              'T': [0,0,200,0,0,0,200],             \n",
    "             }\n"
   ]
  },
  {
   "cell_type": "code",
   "execution_count": 14,
   "metadata": {},
   "outputs": [
    {
     "name": "stderr",
     "output_type": "stream",
     "text": [
      "/home/saket/anaconda3/lib/python3.6/site-packages/pyseqlogo-0.1.0-py3.6.egg/pyseqlogo/format_utils.py:102: RuntimeWarning: divide by zero encountered in log2\n",
      "  -pfm[b][l] * np.nan_to_num(np.log2(pfm[b][l])) for b in bases\n",
      "/home/saket/anaconda3/lib/python3.6/site-packages/pyseqlogo-0.1.0-py3.6.egg/pyseqlogo/format_utils.py:107: RuntimeWarning: divide by zero encountered in log2\n",
      "  [pfm[b][l] * np.nan_to_num(np.log2(pfm[b][l])) for b in bases])\n"
     ]
    },
    {
     "data": {
      "image/png": "[encoded data removed]",
      "text/plain": [
       "<Figure size 576x216 with 1 Axes>"
      ]
     },
     "metadata": {},
     "output_type": "display_data"
    }
   ],
   "source": [
    "fig, axarr = draw_logo(counts_mcb, \n",
    "                       data_type='counts', \n",
    "                       yaxis='probability', \n",
    "                       fontfamily='Monospace',\n",
    "                       colorscheme=colors)"
   ]
  },
  {
   "cell_type": "code",
   "execution_count": null,
   "metadata": {},
   "outputs": [],
   "source": []
  }
 ],
 "metadata": {
  "kernelspec": {
   "display_name": "Python 3",
   "language": "python",
   "name": "python3"
  },
  "language_info": {
   "codemirror_mode": {
    "name": "ipython",
    "version": 3
   },
   "file_extension": ".py",
   "mimetype": "text/x-python",
   "name": "python",
   "nbconvert_exporter": "python",
   "pygments_lexer": "ipython3",
   "version": "3.6.5"
  }
 },
 "nbformat": 4,
 "nbformat_minor": 2
}
