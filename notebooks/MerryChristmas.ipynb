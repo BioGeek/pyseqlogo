{
 "cells": [
  {
   "cell_type": "markdown",
   "metadata": {
    "toc": "true"
   },
   "source": [
    "# Table of Contents\n",
    " <p>"
   ]
  },
  {
   "cell_type": "code",
   "execution_count": 1,
   "metadata": {
    "ExecuteTime": {
     "end_time": "2017-12-25T05:50:09.347332Z",
     "start_time": "2017-12-25T05:49:50.232794Z"
    }
   },
   "outputs": [
    {
     "name": "stdout",
     "output_type": "stream",
     "text": [
      "Populating the interactive namespace from numpy and matplotlib\n"
     ]
    }
   ],
   "source": [
    "%pylab inline\n",
    "from __future__ import division\n",
    "from collections import Counter\n",
    "from Bio import SeqIO\n",
    "from pyseqlogo.pyseqlogo import draw_logo\n",
    "plt.rcParams['figure.dpi'] = 300\n",
    "plt.rcParams['savefig.dpi'] = 300"
   ]
  },
  {
   "cell_type": "code",
   "execution_count": 2,
   "metadata": {},
   "outputs": [
    {
     "name": "stdout",
     "output_type": "stream",
     "text": [
      "--2018-03-17 22:44:49--  ftp://ftp.ebi.ac.uk/pub/databases/gencode/Gencode_human/release_27/gencode.v27.pc_translations.fa.gz\n",
      "           => ‘gencode.v27.pc_translations.fa.gz’\n",
      "Resolving ftp.ebi.ac.uk... 193.62.192.4\n",
      "Connecting to ftp.ebi.ac.uk|193.62.192.4|:21... connected.\n",
      "Logging in as anonymous ... Logged in!\n",
      "==> SYST ... done.    ==> PWD ... done.\n",
      "==> TYPE I ... done.  ==> CWD (1) /pub/databases/gencode/Gencode_human/release_27 ... done.\n",
      "==> SIZE gencode.v27.pc_translations.fa.gz ... 11408050\n",
      "File has already been retrieved.\n",
      "2018-03-17 22:44:50 (0.00 B/s) - ‘gencode.v27.pc_translations.fa.gz’ saved [11408050]\n",
      "\n"
     ]
    }
   ],
   "source": [
    "!wget -c ftp://ftp.ebi.ac.uk/pub/databases/gencode/Gencode_human/release_27/gencode.v27.pc_translations.fa.gz"
   ]
  },
  {
   "cell_type": "code",
   "execution_count": 3,
   "metadata": {
    "ExecuteTime": {
     "end_time": "2017-12-25T05:50:09.347332Z",
     "start_time": "2017-12-25T05:49:50.232794Z"
    }
   },
   "outputs": [],
   "source": [
    "human_aa_fasta = './gencode.v27.pc_translations.fa.gz'\n",
    "human_aa = Counter()\n",
    "with open(human_aa_fasta) as f:\n",
    "    for record in SeqIO.parse(f, 'fasta'):\n",
    "        human_aa+=Counter(record.seq)"
   ]
  },
  {
   "cell_type": "code",
   "execution_count": 4,
   "metadata": {
    "ExecuteTime": {
     "end_time": "2017-12-25T05:50:23.418388Z",
     "start_time": "2017-12-25T05:50:23.405114Z"
    },
    "collapsed": true
   },
   "outputs": [],
   "source": [
    "human_total = sum(list(human_aa.viewvalues()))\n",
    "\n",
    "merry = ['M', 'E', 'R', 'R', 'Y']\n",
    "christmas = ['C', 'H', 'R', 'I', 'S', 'T', 'M', 'A', 'S']\n",
    "\n",
    "data_merry = [[(x, 200*float(human_aa[x])/human_total)] for x in merry]\n",
    "data_christmas = [[(x, 200*float(human_aa[x])/human_total)] for x in christmas]"
   ]
  },
  {
   "cell_type": "code",
   "execution_count": 5,
   "metadata": {
    "ExecuteTime": {
     "start_time": "2017-12-25T06:19:03.167Z"
    }
   },
   "outputs": [
    {
     "data": {
      "image/png": "[encoded data removed]",
      "text/plain": [
       "<matplotlib.figure.Figure at 0x7fb39dfdda10>"
      ]
     },
     "metadata": {},
     "output_type": "display_data"
    }
   ],
   "source": [
    "_, _ = draw_logo(data_merry, \n",
    "                 coordinate_type='display', \n",
    "                 data_type='bits', \n",
    "                 yaxis='probability',\n",
    "                 colorscheme='physiochemical',\n",
    "                 fontfamily='Monospace')\n",
    "plt.savefig('merry.png', dpi=300)"
   ]
  },
  {
   "cell_type": "code",
   "execution_count": 6,
   "metadata": {
    "ExecuteTime": {
     "end_time": "2017-12-25T06:18:35.773142Z",
     "start_time": "2017-12-25T06:18:26.645471Z"
    }
   },
   "outputs": [
    {
     "data": {
      "image/png": "[encoded data removed]",
      "text/plain": [
       "<matplotlib.figure.Figure at 0x7fb3c56610d0>"
      ]
     },
     "metadata": {},
     "output_type": "display_data"
    }
   ],
   "source": [
    "_, _ = draw_logo(data_christmas, \n",
    "                 data_type='bits', \n",
    "                 colorscheme='physiochemical', \n",
    "                 yaxis='probability',\n",
    "                 coordinate_type='display',\n",
    "                 fontfamily='Monospace')\n",
    "plt.savefig('christmas.png', dpi=300)"
   ]
  },
  {
   "cell_type": "code",
   "execution_count": null,
   "metadata": {
    "collapsed": true
   },
   "outputs": [],
   "source": []
  }
 ],
 "metadata": {
  "hide_input": false,
  "kernelspec": {
   "display_name": "Python [default]",
   "language": "python",
   "name": "python2"
  },
  "language_info": {
   "codemirror_mode": {
    "name": "ipython",
    "version": 2
   },
   "file_extension": ".py",
   "mimetype": "text/x-python",
   "name": "python",
   "nbconvert_exporter": "python",
   "pygments_lexer": "ipython2",
   "version": "2.7.11"
  },
  "latex_envs": {
   "LaTeX_envs_menu_present": true,
   "autocomplete": true,
   "bibliofile": "biblio.bib",
   "cite_by": "apalike",
   "current_citInitial": 1,
   "eqLabelWithNumbers": true,
   "eqNumInitial": 1,
   "hotkeys": {
    "equation": "Ctrl-E",
    "itemize": "Ctrl-I"
   },
   "labels_anchors": false,
   "latex_user_defs": false,
   "report_style_numbering": false,
   "user_envs_cfg": false
  },
  "toc": {
   "colors": {
    "hover_highlight": "#DAA520",
    "navigate_num": "#000000",
    "navigate_text": "#333333",
    "running_highlight": "#FF0000",
    "selected_highlight": "#FFD700",
    "sidebar_border": "#EEEEEE",
    "wrapper_background": "#FFFFFF"
   },
   "moveMenuLeft": true,
   "nav_menu": {
    "height": "12px",
    "width": "252px"
   },
   "navigate_menu": true,
   "number_sections": true,
   "sideBar": true,
   "threshold": 4,
   "toc_cell": true,
   "toc_section_display": "block",
   "toc_window_display": true,
   "widenNotebook": false
  }
 },
 "nbformat": 4,
 "nbformat_minor": 2
}
