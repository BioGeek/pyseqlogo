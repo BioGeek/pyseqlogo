{
 "cells": [
  {
   "cell_type": "markdown",
   "metadata": {
    "toc": "true"
   },
   "source": [
    "# Table of Contents\n",
    " <p>"
   ]
  },
  {
   "cell_type": "code",
   "execution_count": 1,
   "metadata": {
    "ExecuteTime": {
     "end_time": "2017-12-04T11:42:57.613489Z",
     "start_time": "2017-12-04T11:42:57.067691Z"
    }
   },
   "outputs": [
    {
     "name": "stdout",
     "output_type": "stream",
     "text": [
      "Populating the interactive namespace from numpy and matplotlib\n"
     ]
    }
   ],
   "source": [
    "%pylab inline\n",
    "%load_ext autoreload\n",
    "%autoreload 2\n",
    "from pyseqlogo.pyseqlogo import draw_logo, setup_axis, draw_protein\n",
    "from pyseqlogo.format_utils import read_alignment, calc_relative_information, format_matrix\n",
    "from Bio import motifs\n",
    "\n",
    "data = '../data/K562_MAFF_all_m_lcr_100.fa_archs.txt'"
   ]
  },
  {
   "cell_type": "code",
   "execution_count": 2,
   "metadata": {
    "ExecuteTime": {
     "end_time": "2017-12-04T11:42:57.775570Z",
     "start_time": "2017-12-04T11:42:57.615161Z"
    }
   },
   "outputs": [],
   "source": [
    "archlines = open(data).read().splitlines()\n",
    "\n",
    "maxarch = max([int(x.split()[0]) for x in archlines])\n",
    "\n",
    "if all:\n",
    "    maxarch += 1\n",
    "archlist = [[] for n in range(maxarch)]\n",
    "for l in archlines:\n",
    "    if len(l.split())>3:\n",
    "        archlist[int(l.split()[0])-1] += [l.split()[-2]]\n",
    "    else:\n",
    "        archlist[int(l.split()[0])-1] += [l.split()[-1]]\n",
    "    if all:\n",
    "        archlist[-1] += [archlist[int(l.split()[0])-1][-1]]\n"
   ]
  },
  {
   "cell_type": "code",
   "execution_count": 3,
   "metadata": {
    "ExecuteTime": {
     "end_time": "2017-12-04T11:42:57.832440Z",
     "start_time": "2017-12-04T11:42:57.776936Z"
    }
   },
   "outputs": [],
   "source": [
    "fasta = ''\n",
    "for cluster_index, cluster in enumerate(archlist):\n",
    "    for index, seq in enumerate(cluster):\n",
    "        if 'N' not in seq:\n",
    "            fasta += '>seq{}-{}\\n{}\\n'.format(cluster_index+1,index+1, seq)\n",
    "        \n",
    "    "
   ]
  },
  {
   "cell_type": "code",
   "execution_count": null,
   "metadata": {
    "ExecuteTime": {
     "start_time": "2017-12-04T11:42:57.062Z"
    }
   },
   "outputs": [],
   "source": [
    "with open('../data/K562_MAFF_all_m_lcr_100.fa_archs.fasta', 'w') as f:\n",
    "    f.write(fasta)"
   ]
  },
  {
   "cell_type": "code",
   "execution_count": null,
   "metadata": {
    "ExecuteTime": {
     "start_time": "2017-12-04T11:42:57.064Z"
    }
   },
   "outputs": [],
   "source": [
    "fig, axarr = draw_logo('../data/K562_MAFF_all_m_lcr_100.fa_archs.fasta', data_type='fasta', yaxis='probability')\n",
    "fig.tight_layout()"
   ]
  }
 ],
 "metadata": {
  "hide_input": false,
  "kernelspec": {
   "display_name": "Python [default]",
   "language": "python",
   "name": "python2"
  },
  "language_info": {
   "codemirror_mode": {
    "name": "ipython",
    "version": 2
   },
   "file_extension": ".py",
   "mimetype": "text/x-python",
   "name": "python",
   "nbconvert_exporter": "python",
   "pygments_lexer": "ipython2",
   "version": "2.7.13"
  },
  "latex_envs": {
   "LaTeX_envs_menu_present": true,
   "autocomplete": true,
   "bibliofile": "biblio.bib",
   "cite_by": "apalike",
   "current_citInitial": 1,
   "eqLabelWithNumbers": true,
   "eqNumInitial": 1,
   "hotkeys": {
    "equation": "Ctrl-E",
    "itemize": "Ctrl-I"
   },
   "labels_anchors": false,
   "latex_user_defs": false,
   "report_style_numbering": false,
   "user_envs_cfg": false
  },
  "toc": {
   "colors": {
    "hover_highlight": "#DAA520",
    "navigate_num": "#000000",
    "navigate_text": "#333333",
    "running_highlight": "#FF0000",
    "selected_highlight": "#FFD700",
    "sidebar_border": "#EEEEEE",
    "wrapper_background": "#FFFFFF"
   },
   "moveMenuLeft": true,
   "nav_menu": {
    "height": "12px",
    "width": "252px"
   },
   "navigate_menu": true,
   "number_sections": true,
   "sideBar": true,
   "threshold": 4,
   "toc_cell": true,
   "toc_section_display": "block",
   "toc_window_display": true,
   "widenNotebook": false
  }
 },
 "nbformat": 4,
 "nbformat_minor": 2
}
